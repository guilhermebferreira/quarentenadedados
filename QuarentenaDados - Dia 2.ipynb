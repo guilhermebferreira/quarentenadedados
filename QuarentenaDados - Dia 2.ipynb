{
 "cells": [
  {
   "cell_type": "code",
   "execution_count": null,
   "metadata": {},
   "outputs": [],
   "source": []
  },
  {
   "cell_type": "code",
   "execution_count": 35,
   "metadata": {},
   "outputs": [],
   "source": [
    "import pandas as pd\n",
    "import matplotlib.pyplot as plt\n",
    "import seaborn as sns"
   ]
  },
  {
   "cell_type": "code",
   "execution_count": 3,
   "metadata": {},
   "outputs": [
    {
     "data": {
      "text/html": [
       "<div>\n",
       "<style scoped>\n",
       "    .dataframe tbody tr th:only-of-type {\n",
       "        vertical-align: middle;\n",
       "    }\n",
       "\n",
       "    .dataframe tbody tr th {\n",
       "        vertical-align: top;\n",
       "    }\n",
       "\n",
       "    .dataframe thead th {\n",
       "        text-align: right;\n",
       "    }\n",
       "</style>\n",
       "<table border=\"1\" class=\"dataframe\">\n",
       "  <thead>\n",
       "    <tr style=\"text-align: right;\">\n",
       "      <th></th>\n",
       "      <th>filmeId</th>\n",
       "      <th>titulo</th>\n",
       "      <th>generos</th>\n",
       "    </tr>\n",
       "  </thead>\n",
       "  <tbody>\n",
       "    <tr>\n",
       "      <th>0</th>\n",
       "      <td>1</td>\n",
       "      <td>Toy Story (1995)</td>\n",
       "      <td>Adventure|Animation|Children|Comedy|Fantasy</td>\n",
       "    </tr>\n",
       "    <tr>\n",
       "      <th>1</th>\n",
       "      <td>2</td>\n",
       "      <td>Jumanji (1995)</td>\n",
       "      <td>Adventure|Children|Fantasy</td>\n",
       "    </tr>\n",
       "    <tr>\n",
       "      <th>2</th>\n",
       "      <td>3</td>\n",
       "      <td>Grumpier Old Men (1995)</td>\n",
       "      <td>Comedy|Romance</td>\n",
       "    </tr>\n",
       "    <tr>\n",
       "      <th>3</th>\n",
       "      <td>4</td>\n",
       "      <td>Waiting to Exhale (1995)</td>\n",
       "      <td>Comedy|Drama|Romance</td>\n",
       "    </tr>\n",
       "    <tr>\n",
       "      <th>4</th>\n",
       "      <td>5</td>\n",
       "      <td>Father of the Bride Part II (1995)</td>\n",
       "      <td>Comedy</td>\n",
       "    </tr>\n",
       "  </tbody>\n",
       "</table>\n",
       "</div>"
      ],
      "text/plain": [
       "   filmeId                              titulo  \\\n",
       "0        1                    Toy Story (1995)   \n",
       "1        2                      Jumanji (1995)   \n",
       "2        3             Grumpier Old Men (1995)   \n",
       "3        4            Waiting to Exhale (1995)   \n",
       "4        5  Father of the Bride Part II (1995)   \n",
       "\n",
       "                                       generos  \n",
       "0  Adventure|Animation|Children|Comedy|Fantasy  \n",
       "1                   Adventure|Children|Fantasy  \n",
       "2                               Comedy|Romance  \n",
       "3                         Comedy|Drama|Romance  \n",
       "4                                       Comedy  "
      ]
     },
     "execution_count": 3,
     "metadata": {},
     "output_type": "execute_result"
    }
   ],
   "source": [
    "filmes = pd.read_csv('ml-latest-small/movies.csv')\n",
    "filmes.columns = ['filmeId', 'titulo', 'generos']\n",
    "filmes.head()"
   ]
  },
  {
   "cell_type": "code",
   "execution_count": 5,
   "metadata": {},
   "outputs": [
    {
     "data": {
      "text/html": [
       "<div>\n",
       "<style scoped>\n",
       "    .dataframe tbody tr th:only-of-type {\n",
       "        vertical-align: middle;\n",
       "    }\n",
       "\n",
       "    .dataframe tbody tr th {\n",
       "        vertical-align: top;\n",
       "    }\n",
       "\n",
       "    .dataframe thead th {\n",
       "        text-align: right;\n",
       "    }\n",
       "</style>\n",
       "<table border=\"1\" class=\"dataframe\">\n",
       "  <thead>\n",
       "    <tr style=\"text-align: right;\">\n",
       "      <th></th>\n",
       "      <th>(no genres listed)</th>\n",
       "      <th>Action</th>\n",
       "      <th>Adventure</th>\n",
       "      <th>Animation</th>\n",
       "      <th>Children</th>\n",
       "      <th>Comedy</th>\n",
       "      <th>Crime</th>\n",
       "      <th>Documentary</th>\n",
       "      <th>Drama</th>\n",
       "      <th>Fantasy</th>\n",
       "      <th>Film-Noir</th>\n",
       "      <th>Horror</th>\n",
       "      <th>IMAX</th>\n",
       "      <th>Musical</th>\n",
       "      <th>Mystery</th>\n",
       "      <th>Romance</th>\n",
       "      <th>Sci-Fi</th>\n",
       "      <th>Thriller</th>\n",
       "      <th>War</th>\n",
       "      <th>Western</th>\n",
       "    </tr>\n",
       "  </thead>\n",
       "  <tbody>\n",
       "    <tr>\n",
       "      <th>0</th>\n",
       "      <td>0</td>\n",
       "      <td>0</td>\n",
       "      <td>1</td>\n",
       "      <td>1</td>\n",
       "      <td>1</td>\n",
       "      <td>1</td>\n",
       "      <td>0</td>\n",
       "      <td>0</td>\n",
       "      <td>0</td>\n",
       "      <td>1</td>\n",
       "      <td>0</td>\n",
       "      <td>0</td>\n",
       "      <td>0</td>\n",
       "      <td>0</td>\n",
       "      <td>0</td>\n",
       "      <td>0</td>\n",
       "      <td>0</td>\n",
       "      <td>0</td>\n",
       "      <td>0</td>\n",
       "      <td>0</td>\n",
       "    </tr>\n",
       "    <tr>\n",
       "      <th>1</th>\n",
       "      <td>0</td>\n",
       "      <td>0</td>\n",
       "      <td>1</td>\n",
       "      <td>0</td>\n",
       "      <td>1</td>\n",
       "      <td>0</td>\n",
       "      <td>0</td>\n",
       "      <td>0</td>\n",
       "      <td>0</td>\n",
       "      <td>1</td>\n",
       "      <td>0</td>\n",
       "      <td>0</td>\n",
       "      <td>0</td>\n",
       "      <td>0</td>\n",
       "      <td>0</td>\n",
       "      <td>0</td>\n",
       "      <td>0</td>\n",
       "      <td>0</td>\n",
       "      <td>0</td>\n",
       "      <td>0</td>\n",
       "    </tr>\n",
       "    <tr>\n",
       "      <th>2</th>\n",
       "      <td>0</td>\n",
       "      <td>0</td>\n",
       "      <td>0</td>\n",
       "      <td>0</td>\n",
       "      <td>0</td>\n",
       "      <td>1</td>\n",
       "      <td>0</td>\n",
       "      <td>0</td>\n",
       "      <td>0</td>\n",
       "      <td>0</td>\n",
       "      <td>0</td>\n",
       "      <td>0</td>\n",
       "      <td>0</td>\n",
       "      <td>0</td>\n",
       "      <td>0</td>\n",
       "      <td>1</td>\n",
       "      <td>0</td>\n",
       "      <td>0</td>\n",
       "      <td>0</td>\n",
       "      <td>0</td>\n",
       "    </tr>\n",
       "    <tr>\n",
       "      <th>3</th>\n",
       "      <td>0</td>\n",
       "      <td>0</td>\n",
       "      <td>0</td>\n",
       "      <td>0</td>\n",
       "      <td>0</td>\n",
       "      <td>1</td>\n",
       "      <td>0</td>\n",
       "      <td>0</td>\n",
       "      <td>1</td>\n",
       "      <td>0</td>\n",
       "      <td>0</td>\n",
       "      <td>0</td>\n",
       "      <td>0</td>\n",
       "      <td>0</td>\n",
       "      <td>0</td>\n",
       "      <td>1</td>\n",
       "      <td>0</td>\n",
       "      <td>0</td>\n",
       "      <td>0</td>\n",
       "      <td>0</td>\n",
       "    </tr>\n",
       "    <tr>\n",
       "      <th>4</th>\n",
       "      <td>0</td>\n",
       "      <td>0</td>\n",
       "      <td>0</td>\n",
       "      <td>0</td>\n",
       "      <td>0</td>\n",
       "      <td>1</td>\n",
       "      <td>0</td>\n",
       "      <td>0</td>\n",
       "      <td>0</td>\n",
       "      <td>0</td>\n",
       "      <td>0</td>\n",
       "      <td>0</td>\n",
       "      <td>0</td>\n",
       "      <td>0</td>\n",
       "      <td>0</td>\n",
       "      <td>0</td>\n",
       "      <td>0</td>\n",
       "      <td>0</td>\n",
       "      <td>0</td>\n",
       "      <td>0</td>\n",
       "    </tr>\n",
       "    <tr>\n",
       "      <th>...</th>\n",
       "      <td>...</td>\n",
       "      <td>...</td>\n",
       "      <td>...</td>\n",
       "      <td>...</td>\n",
       "      <td>...</td>\n",
       "      <td>...</td>\n",
       "      <td>...</td>\n",
       "      <td>...</td>\n",
       "      <td>...</td>\n",
       "      <td>...</td>\n",
       "      <td>...</td>\n",
       "      <td>...</td>\n",
       "      <td>...</td>\n",
       "      <td>...</td>\n",
       "      <td>...</td>\n",
       "      <td>...</td>\n",
       "      <td>...</td>\n",
       "      <td>...</td>\n",
       "      <td>...</td>\n",
       "      <td>...</td>\n",
       "    </tr>\n",
       "    <tr>\n",
       "      <th>9737</th>\n",
       "      <td>0</td>\n",
       "      <td>1</td>\n",
       "      <td>0</td>\n",
       "      <td>1</td>\n",
       "      <td>0</td>\n",
       "      <td>1</td>\n",
       "      <td>0</td>\n",
       "      <td>0</td>\n",
       "      <td>0</td>\n",
       "      <td>1</td>\n",
       "      <td>0</td>\n",
       "      <td>0</td>\n",
       "      <td>0</td>\n",
       "      <td>0</td>\n",
       "      <td>0</td>\n",
       "      <td>0</td>\n",
       "      <td>0</td>\n",
       "      <td>0</td>\n",
       "      <td>0</td>\n",
       "      <td>0</td>\n",
       "    </tr>\n",
       "    <tr>\n",
       "      <th>9738</th>\n",
       "      <td>0</td>\n",
       "      <td>0</td>\n",
       "      <td>0</td>\n",
       "      <td>1</td>\n",
       "      <td>0</td>\n",
       "      <td>1</td>\n",
       "      <td>0</td>\n",
       "      <td>0</td>\n",
       "      <td>0</td>\n",
       "      <td>1</td>\n",
       "      <td>0</td>\n",
       "      <td>0</td>\n",
       "      <td>0</td>\n",
       "      <td>0</td>\n",
       "      <td>0</td>\n",
       "      <td>0</td>\n",
       "      <td>0</td>\n",
       "      <td>0</td>\n",
       "      <td>0</td>\n",
       "      <td>0</td>\n",
       "    </tr>\n",
       "    <tr>\n",
       "      <th>9739</th>\n",
       "      <td>0</td>\n",
       "      <td>0</td>\n",
       "      <td>0</td>\n",
       "      <td>0</td>\n",
       "      <td>0</td>\n",
       "      <td>0</td>\n",
       "      <td>0</td>\n",
       "      <td>0</td>\n",
       "      <td>1</td>\n",
       "      <td>0</td>\n",
       "      <td>0</td>\n",
       "      <td>0</td>\n",
       "      <td>0</td>\n",
       "      <td>0</td>\n",
       "      <td>0</td>\n",
       "      <td>0</td>\n",
       "      <td>0</td>\n",
       "      <td>0</td>\n",
       "      <td>0</td>\n",
       "      <td>0</td>\n",
       "    </tr>\n",
       "    <tr>\n",
       "      <th>9740</th>\n",
       "      <td>0</td>\n",
       "      <td>1</td>\n",
       "      <td>0</td>\n",
       "      <td>1</td>\n",
       "      <td>0</td>\n",
       "      <td>0</td>\n",
       "      <td>0</td>\n",
       "      <td>0</td>\n",
       "      <td>0</td>\n",
       "      <td>0</td>\n",
       "      <td>0</td>\n",
       "      <td>0</td>\n",
       "      <td>0</td>\n",
       "      <td>0</td>\n",
       "      <td>0</td>\n",
       "      <td>0</td>\n",
       "      <td>0</td>\n",
       "      <td>0</td>\n",
       "      <td>0</td>\n",
       "      <td>0</td>\n",
       "    </tr>\n",
       "    <tr>\n",
       "      <th>9741</th>\n",
       "      <td>0</td>\n",
       "      <td>0</td>\n",
       "      <td>0</td>\n",
       "      <td>0</td>\n",
       "      <td>0</td>\n",
       "      <td>1</td>\n",
       "      <td>0</td>\n",
       "      <td>0</td>\n",
       "      <td>0</td>\n",
       "      <td>0</td>\n",
       "      <td>0</td>\n",
       "      <td>0</td>\n",
       "      <td>0</td>\n",
       "      <td>0</td>\n",
       "      <td>0</td>\n",
       "      <td>0</td>\n",
       "      <td>0</td>\n",
       "      <td>0</td>\n",
       "      <td>0</td>\n",
       "      <td>0</td>\n",
       "    </tr>\n",
       "  </tbody>\n",
       "</table>\n",
       "<p>9742 rows × 20 columns</p>\n",
       "</div>"
      ],
      "text/plain": [
       "      (no genres listed)  Action  Adventure  Animation  Children  Comedy  \\\n",
       "0                      0       0          1          1         1       1   \n",
       "1                      0       0          1          0         1       0   \n",
       "2                      0       0          0          0         0       1   \n",
       "3                      0       0          0          0         0       1   \n",
       "4                      0       0          0          0         0       1   \n",
       "...                  ...     ...        ...        ...       ...     ...   \n",
       "9737                   0       1          0          1         0       1   \n",
       "9738                   0       0          0          1         0       1   \n",
       "9739                   0       0          0          0         0       0   \n",
       "9740                   0       1          0          1         0       0   \n",
       "9741                   0       0          0          0         0       1   \n",
       "\n",
       "      Crime  Documentary  Drama  Fantasy  Film-Noir  Horror  IMAX  Musical  \\\n",
       "0         0            0      0        1          0       0     0        0   \n",
       "1         0            0      0        1          0       0     0        0   \n",
       "2         0            0      0        0          0       0     0        0   \n",
       "3         0            0      1        0          0       0     0        0   \n",
       "4         0            0      0        0          0       0     0        0   \n",
       "...     ...          ...    ...      ...        ...     ...   ...      ...   \n",
       "9737      0            0      0        1          0       0     0        0   \n",
       "9738      0            0      0        1          0       0     0        0   \n",
       "9739      0            0      1        0          0       0     0        0   \n",
       "9740      0            0      0        0          0       0     0        0   \n",
       "9741      0            0      0        0          0       0     0        0   \n",
       "\n",
       "      Mystery  Romance  Sci-Fi  Thriller  War  Western  \n",
       "0           0        0       0         0    0        0  \n",
       "1           0        0       0         0    0        0  \n",
       "2           0        1       0         0    0        0  \n",
       "3           0        1       0         0    0        0  \n",
       "4           0        0       0         0    0        0  \n",
       "...       ...      ...     ...       ...  ...      ...  \n",
       "9737        0        0       0         0    0        0  \n",
       "9738        0        0       0         0    0        0  \n",
       "9739        0        0       0         0    0        0  \n",
       "9740        0        0       0         0    0        0  \n",
       "9741        0        0       0         0    0        0  \n",
       "\n",
       "[9742 rows x 20 columns]"
      ]
     },
     "execution_count": 5,
     "metadata": {},
     "output_type": "execute_result"
    }
   ],
   "source": [
    "filmes['generos'].str.get_dummies('|')"
   ]
  },
  {
   "cell_type": "code",
   "execution_count": 7,
   "metadata": {},
   "outputs": [
    {
     "data": {
      "text/plain": [
       "(no genres listed)      34\n",
       "Action                1828\n",
       "Adventure             1263\n",
       "Animation              611\n",
       "Children               664\n",
       "Comedy                3756\n",
       "Crime                 1199\n",
       "Documentary            440\n",
       "Drama                 4361\n",
       "Fantasy                779\n",
       "Film-Noir               87\n",
       "Horror                 978\n",
       "IMAX                   158\n",
       "Musical                334\n",
       "Mystery                573\n",
       "Romance               1596\n",
       "Sci-Fi                 980\n",
       "Thriller              1894\n",
       "War                    382\n",
       "Western                167\n",
       "dtype: int64"
      ]
     },
     "execution_count": 7,
     "metadata": {},
     "output_type": "execute_result"
    }
   ],
   "source": [
    "# por padrão, o sum() soma as colunas\n",
    "filmes['generos'].str.get_dummies('|').sum()"
   ]
  },
  {
   "cell_type": "code",
   "execution_count": 9,
   "metadata": {},
   "outputs": [
    {
     "data": {
      "text/plain": [
       "2     3218\n",
       "1     2851\n",
       "3     2338\n",
       "4      987\n",
       "5      271\n",
       "6       63\n",
       "7       12\n",
       "10       1\n",
       "8        1\n",
       "dtype: int64"
      ]
     },
     "execution_count": 9,
     "metadata": {},
     "output_type": "execute_result"
    }
   ],
   "source": [
    "# para pegar quantos generos os filmes possuem...\n",
    "filmes['generos'].str.get_dummies('|').sum(axis=1).value_counts()"
   ]
  },
  {
   "cell_type": "code",
   "execution_count": 15,
   "metadata": {},
   "outputs": [
    {
     "data": {
      "text/plain": [
       "Drama                 4361\n",
       "Comedy                3756\n",
       "Thriller              1894\n",
       "Action                1828\n",
       "Romance               1596\n",
       "Adventure             1263\n",
       "Crime                 1199\n",
       "Sci-Fi                 980\n",
       "Horror                 978\n",
       "Fantasy                779\n",
       "Children               664\n",
       "Animation              611\n",
       "Mystery                573\n",
       "Documentary            440\n",
       "War                    382\n",
       "Musical                334\n",
       "Western                167\n",
       "IMAX                   158\n",
       "Film-Noir               87\n",
       "(no genres listed)      34\n",
       "dtype: int64"
      ]
     },
     "execution_count": 15,
     "metadata": {},
     "output_type": "execute_result"
    }
   ],
   "source": [
    "filmes['generos'].str.get_dummies('|').sum().sort_values(ascending=False)"
   ]
  },
  {
   "cell_type": "code",
   "execution_count": 16,
   "metadata": {},
   "outputs": [
    {
     "data": {
      "text/plain": [
       "RangeIndex(start=0, stop=9742, step=1)"
      ]
     },
     "execution_count": 16,
     "metadata": {},
     "output_type": "execute_result"
    }
   ],
   "source": [
    "filmes.index"
   ]
  },
  {
   "cell_type": "code",
   "execution_count": 17,
   "metadata": {},
   "outputs": [
    {
     "data": {
      "text/plain": [
       "Index(['Drama', 'Comedy', 'Thriller', 'Action', 'Romance', 'Adventure',\n",
       "       'Crime', 'Sci-Fi', 'Horror', 'Fantasy', 'Children', 'Animation',\n",
       "       'Mystery', 'Documentary', 'War', 'Musical', 'Western', 'IMAX',\n",
       "       'Film-Noir', '(no genres listed)'],\n",
       "      dtype='object')"
      ]
     },
     "execution_count": 17,
     "metadata": {},
     "output_type": "execute_result"
    }
   ],
   "source": [
    "filmes['generos'].str.get_dummies('|').sum().sort_values(ascending=False).index"
   ]
  },
  {
   "cell_type": "code",
   "execution_count": 19,
   "metadata": {},
   "outputs": [
    {
     "data": {
      "text/plain": [
       "(no genres listed)      34\n",
       "Action                1828\n",
       "Adventure             1263\n",
       "Animation              611\n",
       "Children               664\n",
       "Comedy                3756\n",
       "Crime                 1199\n",
       "Documentary            440\n",
       "Drama                 4361\n",
       "Fantasy                779\n",
       "Film-Noir               87\n",
       "Horror                 978\n",
       "IMAX                   158\n",
       "Musical                334\n",
       "Mystery                573\n",
       "Romance               1596\n",
       "Sci-Fi                 980\n",
       "Thriller              1894\n",
       "War                    382\n",
       "Western                167\n",
       "dtype: int64"
      ]
     },
     "execution_count": 19,
     "metadata": {},
     "output_type": "execute_result"
    }
   ],
   "source": [
    "#ordenando pelo índice\n",
    "filmes['generos'].str.get_dummies('|').sum().sort_index()\n"
   ]
  },
  {
   "cell_type": "code",
   "execution_count": 23,
   "metadata": {},
   "outputs": [
    {
     "data": {
      "text/plain": [
       "<matplotlib.axes._subplots.AxesSubplot at 0x7ffa406e11d0>"
      ]
     },
     "execution_count": 23,
     "metadata": {},
     "output_type": "execute_result"
    },
    {
     "data": {
      "image/png": "[encoded data removed]",
      "text/plain": [
       "<Figure size 432x288 with 1 Axes>"
      ]
     },
     "metadata": {
      "needs_background": "light"
     },
     "output_type": "display_data"
    }
   ],
   "source": [
    "# plotando o grafico da quantidade de filmes por genero\n",
    "# usar grafico de linhas não faz sentida nesse caso\n",
    "filmes['generos'].str.get_dummies('|').sum().sort_values(ascending=False).plot()"
   ]
  },
  {
   "cell_type": "code",
   "execution_count": 34,
   "metadata": {},
   "outputs": [
    {
     "data": {
      "image/png": "[encoded data removed]",
      "text/plain": [
       "<Figure size 576x576 with 1 Axes>"
      ]
     },
     "metadata": {},
     "output_type": "display_data"
    }
   ],
   "source": [
    "# \"se o grafico tem nome de comida, não deve ser utilizado\"\n",
    "filmes['generos'].str.get_dummies('|').sum().sort_values(ascending=False).plot(\n",
    "    kind='pie',\n",
    "    title='Categorias de filmes e suas presenças relativas',\n",
    "    figsize=(8,8)\n",
    ")\n",
    "plt.show()"
   ]
  },
  {
   "cell_type": "code",
   "execution_count": 33,
   "metadata": {},
   "outputs": [
    {
     "data": {
      "image/png": "[encoded data removed]",
      "text/plain": [
       "<Figure size 720x576 with 1 Axes>"
      ]
     },
     "metadata": {
      "needs_background": "light"
     },
     "output_type": "display_data"
    }
   ],
   "source": [
    "\n",
    "filmes['generos'].str.get_dummies('|').sum().sort_values(ascending=False).plot(\n",
    "    kind='bar',\n",
    "    title='Categorias de filmes por categoria',\n",
    "    figsize=(10,8)\n",
    ")\n",
    "plt.show()"
   ]
  },
  {
   "cell_type": "code",
   "execution_count": 50,
   "metadata": {},
   "outputs": [
    {
     "data": {
      "image/png": "[encoded data removed]",
      "text/plain": [
       "<Figure size 1440x576 with 1 Axes>"
      ]
     },
     "metadata": {
      "needs_background": "light"
     },
     "output_type": "display_data"
    }
   ],
   "source": [
    "\n",
    "filmes_por_genero = filmes['generos'].str.get_dummies('|').sum().sort_values(ascending=False)\n",
    "plt.figure(figsize=(20,8))\n",
    "sns.barplot(x=filmes_por_genero.index,\n",
    "           y=filmes_por_genero.values,\n",
    "           palette=sns.color_palette(\"BuGn_r\",n_colors=len(filmes_por_genero)+25))\n",
    "\n",
    "plt.show()\n",
    "\n",
    "# len(filmes_por_genero)+25) #gambiarra para que a cor final não seja clara demais"
   ]
  },
  {
   "cell_type": "code",
   "execution_count": 52,
   "metadata": {},
   "outputs": [
    {
     "data": {
      "image/png": "[encoded data removed]",
      "text/plain": [
       "<Figure size 1440x576 with 1 Axes>"
      ]
     },
     "metadata": {},
     "output_type": "display_data"
    }
   ],
   "source": [
    "\n",
    "sns.set_style('whitegrid') #configuração global, para adicionar o grid nas plotagens\n",
    "\n",
    "\n",
    "plt.figure(figsize=(20,8))\n",
    "sns.barplot(x=filmes_por_genero.index,\n",
    "           y=filmes_por_genero.values,\n",
    "           palette=sns.color_palette(\"BuGn_r\",n_colors=len(filmes_por_genero)+10))\n",
    "\n",
    "plt.show()"
   ]
  },
  {
   "cell_type": "code",
   "execution_count": 56,
   "metadata": {},
   "outputs": [
    {
     "name": "stdout",
     "output_type": "stream",
     "text": [
      "3.9209302325581397\n"
     ]
    },
    {
     "data": {
      "text/plain": [
       "<matplotlib.axes._subplots.AxesSubplot at 0x7ffa353dd240>"
      ]
     },
     "execution_count": 56,
     "metadata": {},
     "output_type": "execute_result"
    },
    {
     "data": {
      "image/png": "[encoded data removed]",
      "text/plain": [
       "<Figure size 432x288 with 1 Axes>"
      ]
     },
     "metadata": {},
     "output_type": "display_data"
    }
   ],
   "source": [
    "#extraindo a média das avaliações do filme 1\n",
    "\n",
    "avaliacoes = pd.read_csv('ml-latest-small/ratings.csv')\n",
    "avaliacoes.columns = ['usuarioId', 'filmeId', 'notas', 'momento']\n",
    "\n",
    "notas_dos_filmes_1 = avaliacoes.query('filmeId==1')['notas']\n",
    "print(notas_dos_filmes_1.mean())\n",
    "notas_dos_filmes_1.plot(kind='hist')"
   ]
  },
  {
   "cell_type": "code",
   "execution_count": 57,
   "metadata": {},
   "outputs": [
    {
     "name": "stdout",
     "output_type": "stream",
     "text": [
      "3.4318181818181817\n"
     ]
    },
    {
     "data": {
      "text/plain": [
       "<matplotlib.axes._subplots.AxesSubplot at 0x7ffa35a6ff98>"
      ]
     },
     "execution_count": 57,
     "metadata": {},
     "output_type": "execute_result"
    },
    {
     "data": {
      "image/png": "[encoded data removed]",
      "text/plain": [
       "<Figure size 432x288 with 1 Axes>"
      ]
     },
     "metadata": {},
     "output_type": "display_data"
    }
   ],
   "source": [
    "#extraindo a média das avaliações do filme 2\n",
    " \n",
    "\n",
    "notas_dos_filmes_2 = avaliacoes.query('filmeId==2')['notas']\n",
    "print(notas_dos_filmes_2.mean())\n",
    "notas_dos_filmes_2.plot(kind='hist')"
   ]
  },
  {
   "cell_type": "code",
   "execution_count": 67,
   "metadata": {},
   "outputs": [],
   "source": []
  },
  {
   "cell_type": "code",
   "execution_count": 58,
   "metadata": {},
   "outputs": [
    {
     "data": {
      "text/plain": [
       "count    215.000000\n",
       "mean       3.920930\n",
       "std        0.834859\n",
       "min        0.500000\n",
       "25%        3.500000\n",
       "50%        4.000000\n",
       "75%        4.500000\n",
       "max        5.000000\n",
       "Name: notas, dtype: float64"
      ]
     },
     "execution_count": 58,
     "metadata": {},
     "output_type": "execute_result"
    }
   ],
   "source": [
    "notas_dos_filmes_1.describe()"
   ]
  },
  {
   "cell_type": "code",
   "execution_count": 60,
   "metadata": {},
   "outputs": [],
   "source": [
    "notas_medias_por_filme = avaliacoes.groupby('filmeId').mean()"
   ]
  },
  {
   "cell_type": "code",
   "execution_count": 65,
   "metadata": {},
   "outputs": [
    {
     "data": {
      "text/html": [
       "<div>\n",
       "<style scoped>\n",
       "    .dataframe tbody tr th:only-of-type {\n",
       "        vertical-align: middle;\n",
       "    }\n",
       "\n",
       "    .dataframe tbody tr th {\n",
       "        vertical-align: top;\n",
       "    }\n",
       "\n",
       "    .dataframe thead th {\n",
       "        text-align: right;\n",
       "    }\n",
       "</style>\n",
       "<table border=\"1\" class=\"dataframe\">\n",
       "  <thead>\n",
       "    <tr style=\"text-align: right;\">\n",
       "      <th></th>\n",
       "      <th>filmeId</th>\n",
       "      <th>titulo</th>\n",
       "      <th>generos</th>\n",
       "      <th>usuarioId</th>\n",
       "      <th>notas</th>\n",
       "      <th>momento</th>\n",
       "    </tr>\n",
       "  </thead>\n",
       "  <tbody>\n",
       "    <tr>\n",
       "      <th>745</th>\n",
       "      <td>973</td>\n",
       "      <td>Meet John Doe (1941)</td>\n",
       "      <td>Comedy|Drama</td>\n",
       "      <td>456.400000</td>\n",
       "      <td>3.900000</td>\n",
       "      <td>1.070596e+09</td>\n",
       "    </tr>\n",
       "    <tr>\n",
       "      <th>6632</th>\n",
       "      <td>56251</td>\n",
       "      <td>Futurama: Bender's Big Score (2007)</td>\n",
       "      <td>Animation|Comedy|Sci-Fi</td>\n",
       "      <td>312.000000</td>\n",
       "      <td>3.900000</td>\n",
       "      <td>1.295000e+09</td>\n",
       "    </tr>\n",
       "    <tr>\n",
       "      <th>101</th>\n",
       "      <td>116</td>\n",
       "      <td>Anne Frank Remembered (1995)</td>\n",
       "      <td>Documentary</td>\n",
       "      <td>454.400000</td>\n",
       "      <td>3.900000</td>\n",
       "      <td>9.174821e+08</td>\n",
       "    </tr>\n",
       "    <tr>\n",
       "      <th>5719</th>\n",
       "      <td>27846</td>\n",
       "      <td>Corporation, The (2003)</td>\n",
       "      <td>Documentary</td>\n",
       "      <td>333.600000</td>\n",
       "      <td>3.900000</td>\n",
       "      <td>1.206775e+09</td>\n",
       "    </tr>\n",
       "    <tr>\n",
       "      <th>802</th>\n",
       "      <td>1050</td>\n",
       "      <td>Looking for Richard (1996)</td>\n",
       "      <td>Documentary|Drama</td>\n",
       "      <td>385.800000</td>\n",
       "      <td>3.900000</td>\n",
       "      <td>1.099320e+09</td>\n",
       "    </tr>\n",
       "    <tr>\n",
       "      <th>3983</th>\n",
       "      <td>5617</td>\n",
       "      <td>Secretary (2002)</td>\n",
       "      <td>Comedy|Drama|Romance</td>\n",
       "      <td>314.360000</td>\n",
       "      <td>3.900000</td>\n",
       "      <td>1.250030e+09</td>\n",
       "    </tr>\n",
       "    <tr>\n",
       "      <th>1323</th>\n",
       "      <td>1785</td>\n",
       "      <td>King of New York (1990)</td>\n",
       "      <td>Crime|Thriller</td>\n",
       "      <td>247.200000</td>\n",
       "      <td>3.900000</td>\n",
       "      <td>1.041850e+09</td>\n",
       "    </tr>\n",
       "    <tr>\n",
       "      <th>7103</th>\n",
       "      <td>70599</td>\n",
       "      <td>Time Traveler's Wife, The (2009)</td>\n",
       "      <td>Drama|Romance|Sci-Fi</td>\n",
       "      <td>347.400000</td>\n",
       "      <td>3.900000</td>\n",
       "      <td>1.433349e+09</td>\n",
       "    </tr>\n",
       "    <tr>\n",
       "      <th>5248</th>\n",
       "      <td>8607</td>\n",
       "      <td>Tokyo Godfathers (2003)</td>\n",
       "      <td>Adventure|Animation|Drama</td>\n",
       "      <td>376.200000</td>\n",
       "      <td>3.900000</td>\n",
       "      <td>1.171566e+09</td>\n",
       "    </tr>\n",
       "    <tr>\n",
       "      <th>4677</th>\n",
       "      <td>6985</td>\n",
       "      <td>Passion of Joan of Arc, The (Passion de Jeanne...</td>\n",
       "      <td>Drama</td>\n",
       "      <td>359.800000</td>\n",
       "      <td>3.900000</td>\n",
       "      <td>1.235019e+09</td>\n",
       "    </tr>\n",
       "    <tr>\n",
       "      <th>86</th>\n",
       "      <td>97</td>\n",
       "      <td>Hate (Haine, La) (1995)</td>\n",
       "      <td>Crime|Drama</td>\n",
       "      <td>392.300000</td>\n",
       "      <td>3.900000</td>\n",
       "      <td>1.254121e+09</td>\n",
       "    </tr>\n",
       "    <tr>\n",
       "      <th>4100</th>\n",
       "      <td>5876</td>\n",
       "      <td>Quiet American, The (2002)</td>\n",
       "      <td>Drama|Thriller|War</td>\n",
       "      <td>441.600000</td>\n",
       "      <td>3.900000</td>\n",
       "      <td>1.085472e+09</td>\n",
       "    </tr>\n",
       "    <tr>\n",
       "      <th>4298</th>\n",
       "      <td>6283</td>\n",
       "      <td>Cowboy Bebop: The Movie (Cowboy Bebop: Tengoku...</td>\n",
       "      <td>Action|Animation|Sci-Fi|Thriller</td>\n",
       "      <td>363.350000</td>\n",
       "      <td>3.900000</td>\n",
       "      <td>1.244898e+09</td>\n",
       "    </tr>\n",
       "    <tr>\n",
       "      <th>8533</th>\n",
       "      <td>114935</td>\n",
       "      <td>Predestination (2014)</td>\n",
       "      <td>Action|Mystery|Sci-Fi|Thriller</td>\n",
       "      <td>320.400000</td>\n",
       "      <td>3.900000</td>\n",
       "      <td>1.488026e+09</td>\n",
       "    </tr>\n",
       "    <tr>\n",
       "      <th>7946</th>\n",
       "      <td>95858</td>\n",
       "      <td>For the Birds (2000)</td>\n",
       "      <td>Animation|Children|Comedy</td>\n",
       "      <td>333.400000</td>\n",
       "      <td>3.900000</td>\n",
       "      <td>1.471304e+09</td>\n",
       "    </tr>\n",
       "    <tr>\n",
       "      <th>1630</th>\n",
       "      <td>2176</td>\n",
       "      <td>Rope (1948)</td>\n",
       "      <td>Crime|Drama|Thriller</td>\n",
       "      <td>381.200000</td>\n",
       "      <td>3.900000</td>\n",
       "      <td>1.182566e+09</td>\n",
       "    </tr>\n",
       "    <tr>\n",
       "      <th>3016</th>\n",
       "      <td>4034</td>\n",
       "      <td>Traffic (2000)</td>\n",
       "      <td>Crime|Drama|Thriller</td>\n",
       "      <td>310.200000</td>\n",
       "      <td>3.900000</td>\n",
       "      <td>1.180988e+09</td>\n",
       "    </tr>\n",
       "    <tr>\n",
       "      <th>4702</th>\n",
       "      <td>7018</td>\n",
       "      <td>Presumed Innocent (1990)</td>\n",
       "      <td>Crime|Drama|Thriller</td>\n",
       "      <td>260.800000</td>\n",
       "      <td>3.900000</td>\n",
       "      <td>1.187587e+09</td>\n",
       "    </tr>\n",
       "    <tr>\n",
       "      <th>2156</th>\n",
       "      <td>2871</td>\n",
       "      <td>Deliverance (1972)</td>\n",
       "      <td>Adventure|Drama|Thriller</td>\n",
       "      <td>337.400000</td>\n",
       "      <td>3.900000</td>\n",
       "      <td>1.114362e+09</td>\n",
       "    </tr>\n",
       "    <tr>\n",
       "      <th>9710</th>\n",
       "      <td>187595</td>\n",
       "      <td>Solo: A Star Wars Story (2018)</td>\n",
       "      <td>Action|Adventure|Children|Sci-Fi</td>\n",
       "      <td>391.200000</td>\n",
       "      <td>3.900000</td>\n",
       "      <td>1.532272e+09</td>\n",
       "    </tr>\n",
       "    <tr>\n",
       "      <th>1051</th>\n",
       "      <td>1366</td>\n",
       "      <td>Crucible, The (1996)</td>\n",
       "      <td>Drama</td>\n",
       "      <td>368.400000</td>\n",
       "      <td>3.900000</td>\n",
       "      <td>1.091973e+09</td>\n",
       "    </tr>\n",
       "    <tr>\n",
       "      <th>6613</th>\n",
       "      <td>55820</td>\n",
       "      <td>No Country for Old Men (2007)</td>\n",
       "      <td>Crime|Drama</td>\n",
       "      <td>300.343750</td>\n",
       "      <td>3.898438</td>\n",
       "      <td>1.349984e+09</td>\n",
       "    </tr>\n",
       "    <tr>\n",
       "      <th>939</th>\n",
       "      <td>1240</td>\n",
       "      <td>Terminator, The (1984)</td>\n",
       "      <td>Action|Sci-Fi|Thriller</td>\n",
       "      <td>313.641221</td>\n",
       "      <td>3.896947</td>\n",
       "      <td>1.167956e+09</td>\n",
       "    </tr>\n",
       "    <tr>\n",
       "      <th>267</th>\n",
       "      <td>307</td>\n",
       "      <td>Three Colors: Blue (Trois couleurs: Bleu) (1993)</td>\n",
       "      <td>Drama</td>\n",
       "      <td>284.541667</td>\n",
       "      <td>3.895833</td>\n",
       "      <td>1.128367e+09</td>\n",
       "    </tr>\n",
       "    <tr>\n",
       "      <th>599</th>\n",
       "      <td>745</td>\n",
       "      <td>Wallace &amp; Gromit: A Close Shave (1995)</td>\n",
       "      <td>Animation|Children|Comedy</td>\n",
       "      <td>299.375000</td>\n",
       "      <td>3.895833</td>\n",
       "      <td>1.177083e+09</td>\n",
       "    </tr>\n",
       "    <tr>\n",
       "      <th>706</th>\n",
       "      <td>924</td>\n",
       "      <td>2001: A Space Odyssey (1968)</td>\n",
       "      <td>Adventure|Drama|Sci-Fi</td>\n",
       "      <td>292.486239</td>\n",
       "      <td>3.894495</td>\n",
       "      <td>1.178568e+09</td>\n",
       "    </tr>\n",
       "    <tr>\n",
       "      <th>2078</th>\n",
       "      <td>2762</td>\n",
       "      <td>Sixth Sense, The (1999)</td>\n",
       "      <td>Drama|Horror|Mystery</td>\n",
       "      <td>325.530726</td>\n",
       "      <td>3.893855</td>\n",
       "      <td>1.217210e+09</td>\n",
       "    </tr>\n",
       "    <tr>\n",
       "      <th>1608</th>\n",
       "      <td>2150</td>\n",
       "      <td>Gods Must Be Crazy, The (1980)</td>\n",
       "      <td>Adventure|Comedy</td>\n",
       "      <td>257.857143</td>\n",
       "      <td>3.892857</td>\n",
       "      <td>1.049231e+09</td>\n",
       "    </tr>\n",
       "    <tr>\n",
       "      <th>5165</th>\n",
       "      <td>8366</td>\n",
       "      <td>Saved! (2004)</td>\n",
       "      <td>Comedy|Drama</td>\n",
       "      <td>396.428571</td>\n",
       "      <td>3.892857</td>\n",
       "      <td>1.208332e+09</td>\n",
       "    </tr>\n",
       "    <tr>\n",
       "      <th>1432</th>\n",
       "      <td>1955</td>\n",
       "      <td>Kramer vs. Kramer (1979)</td>\n",
       "      <td>Drama</td>\n",
       "      <td>381.642857</td>\n",
       "      <td>3.892857</td>\n",
       "      <td>1.191325e+09</td>\n",
       "    </tr>\n",
       "    <tr>\n",
       "      <th>2191</th>\n",
       "      <td>2912</td>\n",
       "      <td>Limey, The (1999)</td>\n",
       "      <td>Crime|Drama|Thriller</td>\n",
       "      <td>336.785714</td>\n",
       "      <td>3.892857</td>\n",
       "      <td>1.084424e+09</td>\n",
       "    </tr>\n",
       "    <tr>\n",
       "      <th>5572</th>\n",
       "      <td>26776</td>\n",
       "      <td>Porco Rosso (Crimson Pig) (Kurenai no buta) (1...</td>\n",
       "      <td>Adventure|Animation|Comedy|Fantasy|Romance</td>\n",
       "      <td>379.785714</td>\n",
       "      <td>3.892857</td>\n",
       "      <td>1.301473e+09</td>\n",
       "    </tr>\n",
       "    <tr>\n",
       "      <th>198</th>\n",
       "      <td>232</td>\n",
       "      <td>Eat Drink Man Woman (Yin shi nan nu) (1994)</td>\n",
       "      <td>Comedy|Drama|Romance</td>\n",
       "      <td>328.785714</td>\n",
       "      <td>3.892857</td>\n",
       "      <td>1.017911e+09</td>\n",
       "    </tr>\n",
       "    <tr>\n",
       "      <th>9223</th>\n",
       "      <td>152081</td>\n",
       "      <td>Zootopia (2016)</td>\n",
       "      <td>Action|Adventure|Animation|Children|Comedy</td>\n",
       "      <td>275.500000</td>\n",
       "      <td>3.890625</td>\n",
       "      <td>1.496579e+09</td>\n",
       "    </tr>\n",
       "    <tr>\n",
       "      <th>5885</th>\n",
       "      <td>33166</td>\n",
       "      <td>Crash (2004)</td>\n",
       "      <td>Crime|Drama</td>\n",
       "      <td>324.160000</td>\n",
       "      <td>3.890000</td>\n",
       "      <td>1.264047e+09</td>\n",
       "    </tr>\n",
       "    <tr>\n",
       "      <th>3564</th>\n",
       "      <td>4880</td>\n",
       "      <td>Life as a House (2001)</td>\n",
       "      <td>Drama</td>\n",
       "      <td>296.777778</td>\n",
       "      <td>3.888889</td>\n",
       "      <td>1.158252e+09</td>\n",
       "    </tr>\n",
       "    <tr>\n",
       "      <th>4258</th>\n",
       "      <td>6214</td>\n",
       "      <td>Irreversible (Irréversible) (2002)</td>\n",
       "      <td>Crime|Drama|Mystery|Thriller</td>\n",
       "      <td>327.111111</td>\n",
       "      <td>3.888889</td>\n",
       "      <td>1.338361e+09</td>\n",
       "    </tr>\n",
       "    <tr>\n",
       "      <th>6884</th>\n",
       "      <td>63072</td>\n",
       "      <td>Road, The (2009)</td>\n",
       "      <td>Adventure|Drama|Thriller</td>\n",
       "      <td>275.444444</td>\n",
       "      <td>3.888889</td>\n",
       "      <td>1.390084e+09</td>\n",
       "    </tr>\n",
       "    <tr>\n",
       "      <th>7078</th>\n",
       "      <td>69844</td>\n",
       "      <td>Harry Potter and the Half-Blood Prince (2009)</td>\n",
       "      <td>Adventure|Fantasy|Mystery|Romance|IMAX</td>\n",
       "      <td>320.068966</td>\n",
       "      <td>3.887931</td>\n",
       "      <td>1.430232e+09</td>\n",
       "    </tr>\n",
       "    <tr>\n",
       "      <th>785</th>\n",
       "      <td>1028</td>\n",
       "      <td>Mary Poppins (1964)</td>\n",
       "      <td>Children|Comedy|Fantasy|Musical</td>\n",
       "      <td>305.859155</td>\n",
       "      <td>3.887324</td>\n",
       "      <td>1.168366e+09</td>\n",
       "    </tr>\n",
       "    <tr>\n",
       "      <th>7413</th>\n",
       "      <td>80463</td>\n",
       "      <td>Social Network, The (2010)</td>\n",
       "      <td>Drama</td>\n",
       "      <td>323.245614</td>\n",
       "      <td>3.885965</td>\n",
       "      <td>1.419622e+09</td>\n",
       "    </tr>\n",
       "    <tr>\n",
       "      <th>6151</th>\n",
       "      <td>44191</td>\n",
       "      <td>V for Vendetta (2006)</td>\n",
       "      <td>Action|Sci-Fi|Thriller|IMAX</td>\n",
       "      <td>326.290000</td>\n",
       "      <td>3.885000</td>\n",
       "      <td>1.339987e+09</td>\n",
       "    </tr>\n",
       "    <tr>\n",
       "      <th>7688</th>\n",
       "      <td>89492</td>\n",
       "      <td>Moneyball (2011)</td>\n",
       "      <td>Drama</td>\n",
       "      <td>308.576923</td>\n",
       "      <td>3.884615</td>\n",
       "      <td>1.414552e+09</td>\n",
       "    </tr>\n",
       "    <tr>\n",
       "      <th>6223</th>\n",
       "      <td>45728</td>\n",
       "      <td>Clerks II (2006)</td>\n",
       "      <td>Comedy</td>\n",
       "      <td>357.461538</td>\n",
       "      <td>3.884615</td>\n",
       "      <td>1.282010e+09</td>\n",
       "    </tr>\n",
       "    <tr>\n",
       "      <th>912</th>\n",
       "      <td>1211</td>\n",
       "      <td>Wings of Desire (Himmel über Berlin, Der) (1987)</td>\n",
       "      <td>Drama|Fantasy|Romance</td>\n",
       "      <td>329.384615</td>\n",
       "      <td>3.884615</td>\n",
       "      <td>1.062204e+09</td>\n",
       "    </tr>\n",
       "    <tr>\n",
       "      <th>6242</th>\n",
       "      <td>46578</td>\n",
       "      <td>Little Miss Sunshine (2006)</td>\n",
       "      <td>Adventure|Comedy|Drama</td>\n",
       "      <td>328.727273</td>\n",
       "      <td>3.883117</td>\n",
       "      <td>1.350950e+09</td>\n",
       "    </tr>\n",
       "    <tr>\n",
       "      <th>1230</th>\n",
       "      <td>1635</td>\n",
       "      <td>Ice Storm, The (1997)</td>\n",
       "      <td>Drama</td>\n",
       "      <td>324.882353</td>\n",
       "      <td>3.882353</td>\n",
       "      <td>1.103736e+09</td>\n",
       "    </tr>\n",
       "    <tr>\n",
       "      <th>225</th>\n",
       "      <td>261</td>\n",
       "      <td>Little Women (1994)</td>\n",
       "      <td>Drama</td>\n",
       "      <td>319.142857</td>\n",
       "      <td>3.880952</td>\n",
       "      <td>9.888061e+08</td>\n",
       "    </tr>\n",
       "    <tr>\n",
       "      <th>701</th>\n",
       "      <td>919</td>\n",
       "      <td>Wizard of Oz, The (1939)</td>\n",
       "      <td>Adventure|Children|Fantasy|Musical</td>\n",
       "      <td>326.652174</td>\n",
       "      <td>3.880435</td>\n",
       "      <td>1.144629e+09</td>\n",
       "    </tr>\n",
       "    <tr>\n",
       "      <th>968</th>\n",
       "      <td>1269</td>\n",
       "      <td>Arsenic and Old Lace (1944)</td>\n",
       "      <td>Comedy|Mystery|Thriller</td>\n",
       "      <td>326.689655</td>\n",
       "      <td>3.879310</td>\n",
       "      <td>1.108420e+09</td>\n",
       "    </tr>\n",
       "  </tbody>\n",
       "</table>\n",
       "</div>"
      ],
      "text/plain": [
       "      filmeId                                             titulo  \\\n",
       "745       973                               Meet John Doe (1941)   \n",
       "6632    56251                Futurama: Bender's Big Score (2007)   \n",
       "101       116                       Anne Frank Remembered (1995)   \n",
       "5719    27846                            Corporation, The (2003)   \n",
       "802      1050                         Looking for Richard (1996)   \n",
       "3983     5617                                   Secretary (2002)   \n",
       "1323     1785                            King of New York (1990)   \n",
       "7103    70599                   Time Traveler's Wife, The (2009)   \n",
       "5248     8607                            Tokyo Godfathers (2003)   \n",
       "4677     6985  Passion of Joan of Arc, The (Passion de Jeanne...   \n",
       "86         97                            Hate (Haine, La) (1995)   \n",
       "4100     5876                         Quiet American, The (2002)   \n",
       "4298     6283  Cowboy Bebop: The Movie (Cowboy Bebop: Tengoku...   \n",
       "8533   114935                              Predestination (2014)   \n",
       "7946    95858                               For the Birds (2000)   \n",
       "1630     2176                                        Rope (1948)   \n",
       "3016     4034                                     Traffic (2000)   \n",
       "4702     7018                           Presumed Innocent (1990)   \n",
       "2156     2871                                 Deliverance (1972)   \n",
       "9710   187595                     Solo: A Star Wars Story (2018)   \n",
       "1051     1366                               Crucible, The (1996)   \n",
       "6613    55820                      No Country for Old Men (2007)   \n",
       "939      1240                             Terminator, The (1984)   \n",
       "267       307   Three Colors: Blue (Trois couleurs: Bleu) (1993)   \n",
       "599       745             Wallace & Gromit: A Close Shave (1995)   \n",
       "706       924                       2001: A Space Odyssey (1968)   \n",
       "2078     2762                            Sixth Sense, The (1999)   \n",
       "1608     2150                     Gods Must Be Crazy, The (1980)   \n",
       "5165     8366                                      Saved! (2004)   \n",
       "1432     1955                           Kramer vs. Kramer (1979)   \n",
       "2191     2912                                  Limey, The (1999)   \n",
       "5572    26776  Porco Rosso (Crimson Pig) (Kurenai no buta) (1...   \n",
       "198       232        Eat Drink Man Woman (Yin shi nan nu) (1994)   \n",
       "9223   152081                                    Zootopia (2016)   \n",
       "5885    33166                                       Crash (2004)   \n",
       "3564     4880                             Life as a House (2001)   \n",
       "4258     6214                 Irreversible (Irréversible) (2002)   \n",
       "6884    63072                                   Road, The (2009)   \n",
       "7078    69844      Harry Potter and the Half-Blood Prince (2009)   \n",
       "785      1028                                Mary Poppins (1964)   \n",
       "7413    80463                         Social Network, The (2010)   \n",
       "6151    44191                              V for Vendetta (2006)   \n",
       "7688    89492                                   Moneyball (2011)   \n",
       "6223    45728                                   Clerks II (2006)   \n",
       "912      1211   Wings of Desire (Himmel über Berlin, Der) (1987)   \n",
       "6242    46578                        Little Miss Sunshine (2006)   \n",
       "1230     1635                              Ice Storm, The (1997)   \n",
       "225       261                                Little Women (1994)   \n",
       "701       919                           Wizard of Oz, The (1939)   \n",
       "968      1269                        Arsenic and Old Lace (1944)   \n",
       "\n",
       "                                         generos   usuarioId     notas  \\\n",
       "745                                 Comedy|Drama  456.400000  3.900000   \n",
       "6632                     Animation|Comedy|Sci-Fi  312.000000  3.900000   \n",
       "101                                  Documentary  454.400000  3.900000   \n",
       "5719                                 Documentary  333.600000  3.900000   \n",
       "802                            Documentary|Drama  385.800000  3.900000   \n",
       "3983                        Comedy|Drama|Romance  314.360000  3.900000   \n",
       "1323                              Crime|Thriller  247.200000  3.900000   \n",
       "7103                        Drama|Romance|Sci-Fi  347.400000  3.900000   \n",
       "5248                   Adventure|Animation|Drama  376.200000  3.900000   \n",
       "4677                                       Drama  359.800000  3.900000   \n",
       "86                                   Crime|Drama  392.300000  3.900000   \n",
       "4100                          Drama|Thriller|War  441.600000  3.900000   \n",
       "4298            Action|Animation|Sci-Fi|Thriller  363.350000  3.900000   \n",
       "8533              Action|Mystery|Sci-Fi|Thriller  320.400000  3.900000   \n",
       "7946                   Animation|Children|Comedy  333.400000  3.900000   \n",
       "1630                        Crime|Drama|Thriller  381.200000  3.900000   \n",
       "3016                        Crime|Drama|Thriller  310.200000  3.900000   \n",
       "4702                        Crime|Drama|Thriller  260.800000  3.900000   \n",
       "2156                    Adventure|Drama|Thriller  337.400000  3.900000   \n",
       "9710            Action|Adventure|Children|Sci-Fi  391.200000  3.900000   \n",
       "1051                                       Drama  368.400000  3.900000   \n",
       "6613                                 Crime|Drama  300.343750  3.898438   \n",
       "939                       Action|Sci-Fi|Thriller  313.641221  3.896947   \n",
       "267                                        Drama  284.541667  3.895833   \n",
       "599                    Animation|Children|Comedy  299.375000  3.895833   \n",
       "706                       Adventure|Drama|Sci-Fi  292.486239  3.894495   \n",
       "2078                        Drama|Horror|Mystery  325.530726  3.893855   \n",
       "1608                            Adventure|Comedy  257.857143  3.892857   \n",
       "5165                                Comedy|Drama  396.428571  3.892857   \n",
       "1432                                       Drama  381.642857  3.892857   \n",
       "2191                        Crime|Drama|Thriller  336.785714  3.892857   \n",
       "5572  Adventure|Animation|Comedy|Fantasy|Romance  379.785714  3.892857   \n",
       "198                         Comedy|Drama|Romance  328.785714  3.892857   \n",
       "9223  Action|Adventure|Animation|Children|Comedy  275.500000  3.890625   \n",
       "5885                                 Crime|Drama  324.160000  3.890000   \n",
       "3564                                       Drama  296.777778  3.888889   \n",
       "4258                Crime|Drama|Mystery|Thriller  327.111111  3.888889   \n",
       "6884                    Adventure|Drama|Thriller  275.444444  3.888889   \n",
       "7078      Adventure|Fantasy|Mystery|Romance|IMAX  320.068966  3.887931   \n",
       "785              Children|Comedy|Fantasy|Musical  305.859155  3.887324   \n",
       "7413                                       Drama  323.245614  3.885965   \n",
       "6151                 Action|Sci-Fi|Thriller|IMAX  326.290000  3.885000   \n",
       "7688                                       Drama  308.576923  3.884615   \n",
       "6223                                      Comedy  357.461538  3.884615   \n",
       "912                        Drama|Fantasy|Romance  329.384615  3.884615   \n",
       "6242                      Adventure|Comedy|Drama  328.727273  3.883117   \n",
       "1230                                       Drama  324.882353  3.882353   \n",
       "225                                        Drama  319.142857  3.880952   \n",
       "701           Adventure|Children|Fantasy|Musical  326.652174  3.880435   \n",
       "968                      Comedy|Mystery|Thriller  326.689655  3.879310   \n",
       "\n",
       "           momento  \n",
       "745   1.070596e+09  \n",
       "6632  1.295000e+09  \n",
       "101   9.174821e+08  \n",
       "5719  1.206775e+09  \n",
       "802   1.099320e+09  \n",
       "3983  1.250030e+09  \n",
       "1323  1.041850e+09  \n",
       "7103  1.433349e+09  \n",
       "5248  1.171566e+09  \n",
       "4677  1.235019e+09  \n",
       "86    1.254121e+09  \n",
       "4100  1.085472e+09  \n",
       "4298  1.244898e+09  \n",
       "8533  1.488026e+09  \n",
       "7946  1.471304e+09  \n",
       "1630  1.182566e+09  \n",
       "3016  1.180988e+09  \n",
       "4702  1.187587e+09  \n",
       "2156  1.114362e+09  \n",
       "9710  1.532272e+09  \n",
       "1051  1.091973e+09  \n",
       "6613  1.349984e+09  \n",
       "939   1.167956e+09  \n",
       "267   1.128367e+09  \n",
       "599   1.177083e+09  \n",
       "706   1.178568e+09  \n",
       "2078  1.217210e+09  \n",
       "1608  1.049231e+09  \n",
       "5165  1.208332e+09  \n",
       "1432  1.191325e+09  \n",
       "2191  1.084424e+09  \n",
       "5572  1.301473e+09  \n",
       "198   1.017911e+09  \n",
       "9223  1.496579e+09  \n",
       "5885  1.264047e+09  \n",
       "3564  1.158252e+09  \n",
       "4258  1.338361e+09  \n",
       "6884  1.390084e+09  \n",
       "7078  1.430232e+09  \n",
       "785   1.168366e+09  \n",
       "7413  1.419622e+09  \n",
       "6151  1.339987e+09  \n",
       "7688  1.414552e+09  \n",
       "6223  1.282010e+09  \n",
       "912   1.062204e+09  \n",
       "6242  1.350950e+09  \n",
       "1230  1.103736e+09  \n",
       "225   9.888061e+08  \n",
       "701   1.144629e+09  \n",
       "968   1.108420e+09  "
      ]
     },
     "execution_count": 65,
     "metadata": {},
     "output_type": "execute_result"
    }
   ],
   "source": [
    "filmes_com_media = filmes.join(notas_medias_por_filme, on='filmeId' )\n",
    "filmes_com_media.sort_values('notas', ascending=False)[2450:2500]"
   ]
  },
  {
   "cell_type": "code",
   "execution_count": 71,
   "metadata": {},
   "outputs": [],
   "source": [
    "def plot_filme(n):\n",
    "    notas_dos_filmes = avaliacoes.query(f'filmeId=={n}')['notas'] \n",
    "    notas_dos_filmes.plot(kind='hist')\n",
    "    return notas_dos_filmes.describe()"
   ]
  },
  {
   "cell_type": "code",
   "execution_count": 72,
   "metadata": {},
   "outputs": [
    {
     "data": {
      "text/plain": [
       "count    92.000000\n",
       "mean      3.880435\n",
       "std       1.025418\n",
       "min       1.000000\n",
       "25%       3.000000\n",
       "50%       4.000000\n",
       "75%       5.000000\n",
       "max       5.000000\n",
       "Name: notas, dtype: float64"
      ]
     },
     "execution_count": 72,
     "metadata": {},
     "output_type": "execute_result"
    },
    {
     "data": {
      "image/png": "[encoded data removed]",
      "text/plain": [
       "<Figure size 432x288 with 1 Axes>"
      ]
     },
     "metadata": {},
     "output_type": "display_data"
    }
   ],
   "source": [
    "plot_filme(919)"
   ]
  },
  {
   "cell_type": "code",
   "execution_count": 73,
   "metadata": {},
   "outputs": [
    {
     "data": {
      "text/plain": [
       "count    77.000000\n",
       "mean      3.883117\n",
       "std       0.842522\n",
       "min       1.000000\n",
       "25%       3.500000\n",
       "50%       4.000000\n",
       "75%       4.500000\n",
       "max       5.000000\n",
       "Name: notas, dtype: float64"
      ]
     },
     "execution_count": 73,
     "metadata": {},
     "output_type": "execute_result"
    },
    {
     "data": {
      "image/png": "[encoded data removed]",
      "text/plain": [
       "<Figure size 432x288 with 1 Axes>"
      ]
     },
     "metadata": {},
     "output_type": "display_data"
    }
   ],
   "source": [
    "plot_filme(46578)"
   ]
  },
  {
   "cell_type": "code",
   "execution_count": 108,
   "metadata": {},
   "outputs": [],
   "source": [
    "def plot_boxplot_filme(n):\n",
    "    notas_dos_filmes = avaliacoes.query(f'filmeId=={n}')['notas'] \n",
    "    notas_dos_filmes.plot(kind='hist')\n",
    "    plt.show()\n",
    "    notas_dos_filmes.plot.box()\n",
    "    plt.show()\n",
    "    return notas_dos_filmes.describe()"
   ]
  },
  {
   "cell_type": "code",
   "execution_count": null,
   "metadata": {},
   "outputs": [],
   "source": []
  },
  {
   "cell_type": "code",
   "execution_count": 81,
   "metadata": {},
   "outputs": [
    {
     "data": {
      "image/png": "[encoded data removed]",
      "text/plain": [
       "<Figure size 432x288 with 1 Axes>"
      ]
     },
     "metadata": {},
     "output_type": "display_data"
    },
    {
     "data": {
      "text/plain": [
       "count    92.000000\n",
       "mean      3.880435\n",
       "std       1.025418\n",
       "min       1.000000\n",
       "25%       3.000000\n",
       "50%       4.000000\n",
       "75%       5.000000\n",
       "max       5.000000\n",
       "Name: notas, dtype: float64"
      ]
     },
     "execution_count": 81,
     "metadata": {},
     "output_type": "execute_result"
    },
    {
     "data": {
      "image/png": "[encoded data removed]",
      "text/plain": [
       "<Figure size 432x288 with 1 Axes>"
      ]
     },
     "metadata": {},
     "output_type": "display_data"
    }
   ],
   "source": [
    "plot_boxplot_filme(919)"
   ]
  },
  {
   "cell_type": "code",
   "execution_count": 113,
   "metadata": {},
   "outputs": [
    {
     "data": {
      "text/plain": [
       "<matplotlib.axes._subplots.AxesSubplot at 0x7ffa35734470>"
      ]
     },
     "execution_count": 113,
     "metadata": {},
     "output_type": "execute_result"
    },
    {
     "data": {
      "image/png": "[encoded data removed]",
      "text/plain": [
       "<Figure size 432x288 with 1 Axes>"
      ]
     },
     "metadata": {},
     "output_type": "display_data"
    }
   ],
   "source": [
    "sns.boxplot(data=avaliacoes.query('filmeId in [1,2,919,46578]'))"
   ]
  },
  {
   "cell_type": "code",
   "execution_count": null,
   "metadata": {},
   "outputs": [],
   "source": []
  },
  {
   "cell_type": "code",
   "execution_count": null,
   "metadata": {},
   "outputs": [],
   "source": []
  },
  {
   "cell_type": "code",
   "execution_count": null,
   "metadata": {},
   "outputs": [],
   "source": []
  },
  {
   "cell_type": "code",
   "execution_count": null,
   "metadata": {},
   "outputs": [],
   "source": []
  },
  {
   "cell_type": "code",
   "execution_count": null,
   "metadata": {},
   "outputs": [],
   "source": []
  },
  {
   "cell_type": "code",
   "execution_count": null,
   "metadata": {},
   "outputs": [],
   "source": []
  },
  {
   "cell_type": "code",
   "execution_count": null,
   "metadata": {},
   "outputs": [],
   "source": []
  },
  {
   "cell_type": "code",
   "execution_count": null,
   "metadata": {},
   "outputs": [],
   "source": []
  },
  {
   "cell_type": "code",
   "execution_count": null,
   "metadata": {},
   "outputs": [],
   "source": []
  },
  {
   "cell_type": "code",
   "execution_count": null,
   "metadata": {},
   "outputs": [],
   "source": []
  },
  {
   "cell_type": "code",
   "execution_count": null,
   "metadata": {},
   "outputs": [],
   "source": []
  },
  {
   "cell_type": "code",
   "execution_count": null,
   "metadata": {},
   "outputs": [],
   "source": []
  },
  {
   "cell_type": "code",
   "execution_count": null,
   "metadata": {},
   "outputs": [],
   "source": []
  },
  {
   "cell_type": "markdown",
   "metadata": {},
   "source": [
    "Desafio 1\n",
    "- Rotacionar os thicks (os nomes dos generos)\n",
    "\n",
    "Desafio 2:\n",
    "- Comparar outros filmes com notas proximas, e achar distribuições bem diferentes\n",
    "\n",
    "Desafio 3:\n",
    "- Criar o boxplot dos 10 filmes com mais votos (não e com a maior méia, é com mais votos)"
   ]
  },
  {
   "cell_type": "code",
   "execution_count": null,
   "metadata": {},
   "outputs": [],
   "source": []
  },
  {
   "cell_type": "markdown",
   "metadata": {},
   "source": [
    "\n",
    "Desafio 2:\n",
    "- Comparar outros filmes com notas proximas, e achar distribuições bem diferentes"
   ]
  },
  {
   "cell_type": "code",
   "execution_count": 110,
   "metadata": {},
   "outputs": [],
   "source": [
    "def plot_boxplot_3_filmes(n):\n",
    "    df = pd.DataFrame()\n",
    "    \n",
    "    nota_a =  avaliacoes.query(f'filmeId=={n-1}')['notas']\n",
    "    nota_b =  avaliacoes.query(f'filmeId=={n}')['notas']\n",
    "    nota_c =  avaliacoes.query(f'filmeId=={n+1}')['notas']\n",
    "    \n",
    "    df = pd.concat([nota_a, nota_b, nota_c], axis=1)\n",
    "    \n",
    "    df.boxplot()\n",
    "    return(df.describe)"
   ]
  },
  {
   "cell_type": "code",
   "execution_count": 112,
   "metadata": {},
   "outputs": [
    {
     "data": {
      "text/plain": [
       "<bound method NDFrame.describe of        notas  notas  notas\n",
       "349      4.0    NaN    NaN\n",
       "1689     3.5    NaN    NaN\n",
       "3002     4.0    NaN    NaN\n",
       "4259     2.0    NaN    NaN\n",
       "7128     4.0    NaN    NaN\n",
       "...      ...    ...    ...\n",
       "96283    4.0    NaN    NaN\n",
       "96284    NaN    4.0    NaN\n",
       "97173    NaN    3.0    NaN\n",
       "97490    4.0    NaN    NaN\n",
       "97491    NaN    4.0    NaN\n",
       "\n",
       "[66 rows x 3 columns]>"
      ]
     },
     "execution_count": 112,
     "metadata": {},
     "output_type": "execute_result"
    },
    {
     "data": {
      "image/png": "[encoded data removed]",
      "text/plain": [
       "<Figure size 432x288 with 1 Axes>"
      ]
     },
     "metadata": {},
     "output_type": "display_data"
    }
   ],
   "source": [
    "plot_boxplot_3_filmes(900)"
   ]
  },
  {
   "cell_type": "code",
   "execution_count": null,
   "metadata": {},
   "outputs": [],
   "source": []
  }
 ],
 "metadata": {
  "kernelspec": {
   "display_name": "Python 3",
   "language": "python",
   "name": "python3"
  },
  "language_info": {
   "codemirror_mode": {
    "name": "ipython",
    "version": 3
   },
   "file_extension": ".py",
   "mimetype": "text/x-python",
   "name": "python",
   "nbconvert_exporter": "python",
   "pygments_lexer": "ipython3",
   "version": "3.6.9"
  }
 },
 "nbformat": 4,
 "nbformat_minor": 4
}
